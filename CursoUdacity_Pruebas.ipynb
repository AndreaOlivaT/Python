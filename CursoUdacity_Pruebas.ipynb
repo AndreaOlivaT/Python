{
  "nbformat": 4,
  "nbformat_minor": 0,
  "metadata": {
    "colab": {
      "name": "CursoUdacity_Pruebas.ipynb",
      "provenance": [],
      "toc_visible": true,
      "authorship_tag": "ABX9TyNTvbJqx/vHLNhfa/f5Xe6m",
      "include_colab_link": true
    },
    "kernelspec": {
      "name": "python3",
      "display_name": "Python 3"
    },
    "language_info": {
      "name": "python"
    }
  },
  "cells": [
    {
      "cell_type": "markdown",
      "metadata": {
        "id": "view-in-github",
        "colab_type": "text"
      },
      "source": [
        "<a href=\"https://colab.research.google.com/github/AndreaOlivaT/Python/blob/main/CursoUdacity_Pruebas.ipynb\" target=\"_parent\"><img src=\"https://colab.research.google.com/assets/colab-badge.svg\" alt=\"Open In Colab\"/></a>"
      ]
    },
    {
      "cell_type": "markdown",
      "metadata": {
        "id": "HzIeJyGgpMKT"
      },
      "source": [
        "# ***Curso Udacity***\n",
        "01 de julio de *2021*"
      ]
    },
    {
      "cell_type": "markdown",
      "metadata": {
        "id": "3OH47H5BpXUP"
      },
      "source": [
        "### Modulo No. 1 Operadores matemáticos"
      ]
    },
    {
      "cell_type": "markdown",
      "metadata": {
        "id": "iiZr4PXop-rC"
      },
      "source": [
        "Operadores Matemáticos\n",
        "\n",
        "\n",
        "* \"+\" Addition\n",
        "* \"-\" Subtraction\n",
        "* \"\" Multiplication\n",
        "* \"/\" Division\n",
        "* \"%\" Mod (the remainder after dividing)\n",
        "* \"**\" Exponentiation (note that ^ does not do this operation, as you might have seen in other languages)\n",
        "* \"//\" Divides and rounds down to the nearest integer\n",
        "\n"
      ]
    },
    {
      "cell_type": "markdown",
      "metadata": {
        "id": "YS4OmN5wqUWP"
      },
      "source": [
        "### **Función \"print\"**\n",
        "\n",
        "\n",
        "Despliga las operaciones a realizar\n",
        "\n",
        "\n",
        "> Ejemplo: Resolver la operación (1+2+3) * *3*"
      ]
    },
    {
      "cell_type": "code",
      "metadata": {
        "colab": {
          "base_uri": "https://localhost:8080/"
        },
        "id": "eNJwQatrpwDq",
        "outputId": "6fded20b-d82f-4563-c235-5f701e9cf926"
      },
      "source": [
        "print ((1+2+3) * 3)"
      ],
      "execution_count": 5,
      "outputs": [
        {
          "output_type": "stream",
          "text": [
            "18\n"
          ],
          "name": "stdout"
        }
      ]
    }
  ]
}